{
  "nbformat": 4,
  "nbformat_minor": 0,
  "metadata": {
    "colab": {
      "provenance": []
    },
    "kernelspec": {
      "name": "python3",
      "display_name": "Python 3"
    },
    "language_info": {
      "name": "python"
    },
    "accelerator": "GPU"
  },
  "cells": [
    {
      "cell_type": "code",
      "metadata": {
        "colab": {
          "base_uri": "https://localhost:8080/"
        },
        "id": "NWKzVmChuMaf",
        "outputId": "737d1555-b5ef-4689-adc0-77dd44c647b5"
      },
      "source": [
        "from google.colab import drive\n",
        "\n",
        "drive.mount('/content/gdrive')"
      ],
      "execution_count": null,
      "outputs": [
        {
          "output_type": "stream",
          "text": [
            "Drive already mounted at /content/gdrive; to attempt to forcibly remount, call drive.mount(\"/content/gdrive\", force_remount=True).\n"
          ],
          "name": "stdout"
        }
      ]
    },
    {
      "cell_type": "code",
      "metadata": {
        "colab": {
          "base_uri": "https://localhost:8080/"
        },
        "id": "xr8S_bduvj4x",
        "outputId": "2d000935-c73d-427f-b0a2-523533aacf4a"
      },
      "source": [
        "pip install scikit-surprise"
      ],
      "execution_count": null,
      "outputs": [
        {
          "output_type": "stream",
          "text": [
            "Requirement already satisfied: scikit-surprise in /usr/local/lib/python3.7/dist-packages (1.1.1)\n",
            "Requirement already satisfied: joblib>=0.11 in /usr/local/lib/python3.7/dist-packages (from scikit-surprise) (1.0.1)\n",
            "Requirement already satisfied: scipy>=1.0.0 in /usr/local/lib/python3.7/dist-packages (from scikit-surprise) (1.4.1)\n",
            "Requirement already satisfied: numpy>=1.11.2 in /usr/local/lib/python3.7/dist-packages (from scikit-surprise) (1.19.5)\n",
            "Requirement already satisfied: six>=1.10.0 in /usr/local/lib/python3.7/dist-packages (from scikit-surprise) (1.15.0)\n"
          ],
          "name": "stdout"
        }
      ]
    },
    {
      "cell_type": "code",
      "metadata": {
        "id": "Va7_aulXvaLL"
      },
      "source": [
        "import numpy as np\n",
        "import cvxpy as cp\n",
        "import matplotlib.pyplot as plt\n",
        "import pandas as pd\n",
        "\n",
        "from surprise import Reader\n",
        "from surprise import Dataset\n",
        "from surprise import KNNBasic\n",
        "from surprise import accuracy\n",
        "from surprise.model_selection import train_test_split"
      ],
      "execution_count": null,
      "outputs": []
    },
    {
      "cell_type": "code",
      "metadata": {
        "id": "ObzCfAQ1v0Do"
      },
      "source": [
        "train_fimename = '/content/gdrive/MyDrive/2021_인공지능통신/movie_train.csv'\n",
        "test_filename = '/content/gdrive/MyDrive/2021_인공지능통신/movie_test_label.csv'\n",
        "train_1 = pd.read_csv(train_fimename)\n",
        "test_1 = pd.read_csv(test_filename)\n",
        "train_data = train_1.values\n",
        "test_data = test_1.values"
      ],
      "execution_count": null,
      "outputs": []
    },
    {
      "cell_type": "code",
      "metadata": {
        "id": "tZanlA-Qw-Zq"
      },
      "source": [
        "#train_data 정렬\n",
        "train_sort = train_1.sort_values(by = ['movieId','userId'], ascending = True)\n",
        "train_final = train_sort.drop('Unnamed: 0', axis = 1)\n",
        "train_final2= train_final.reset_index(drop = True)\n",
        "train1 = np.array(train_final2)"
      ],
      "execution_count": null,
      "outputs": []
    },
    {
      "cell_type": "code",
      "metadata": {
        "id": "SurFpS1wx5yK"
      },
      "source": [
        "#test_data 정렬\n",
        "test_sort = test_1.sort_values(by = ['movieId','userId'], ascending = True)\n",
        "test_final = test_sort.drop('Unnamed: 0', axis = 1)\n",
        "test_final2= test_final.reset_index(drop = True)\n",
        "test_set = test_final2.values\n",
        "test1 = np.array(test_final2)"
      ],
      "execution_count": null,
      "outputs": []
    },
    {
      "cell_type": "code",
      "metadata": {
        "colab": {
          "base_uri": "https://localhost:8080/",
          "height": 402
        },
        "id": "Ns1dfGFksYZ8",
        "outputId": "2bcbdd96-0eb7-4b08-ba97-da8b9b674a5d"
      },
      "source": [
        "test_final2"
      ],
      "execution_count": null,
      "outputs": [
        {
          "output_type": "execute_result",
          "data": {
            "text/html": [
              "<div>\n",
              "<style scoped>\n",
              "    .dataframe tbody tr th:only-of-type {\n",
              "        vertical-align: middle;\n",
              "    }\n",
              "\n",
              "    .dataframe tbody tr th {\n",
              "        vertical-align: top;\n",
              "    }\n",
              "\n",
              "    .dataframe thead th {\n",
              "        text-align: right;\n",
              "    }\n",
              "</style>\n",
              "<table border=\"1\" class=\"dataframe\">\n",
              "  <thead>\n",
              "    <tr style=\"text-align: right;\">\n",
              "      <th></th>\n",
              "      <th>userId</th>\n",
              "      <th>movieId</th>\n",
              "      <th>rating</th>\n",
              "    </tr>\n",
              "  </thead>\n",
              "  <tbody>\n",
              "    <tr>\n",
              "      <th>0</th>\n",
              "      <td>7</td>\n",
              "      <td>1</td>\n",
              "      <td>3.0</td>\n",
              "    </tr>\n",
              "    <tr>\n",
              "      <th>1</th>\n",
              "      <td>70</td>\n",
              "      <td>1</td>\n",
              "      <td>5.0</td>\n",
              "    </tr>\n",
              "    <tr>\n",
              "      <th>2</th>\n",
              "      <td>75</td>\n",
              "      <td>1</td>\n",
              "      <td>3.0</td>\n",
              "    </tr>\n",
              "    <tr>\n",
              "      <th>3</th>\n",
              "      <td>79</td>\n",
              "      <td>1</td>\n",
              "      <td>2.0</td>\n",
              "    </tr>\n",
              "    <tr>\n",
              "      <th>4</th>\n",
              "      <td>15</td>\n",
              "      <td>2</td>\n",
              "      <td>2.0</td>\n",
              "    </tr>\n",
              "    <tr>\n",
              "      <th>...</th>\n",
              "      <td>...</td>\n",
              "      <td>...</td>\n",
              "      <td>...</td>\n",
              "    </tr>\n",
              "    <tr>\n",
              "      <th>1299</th>\n",
              "      <td>95</td>\n",
              "      <td>1995</td>\n",
              "      <td>3.0</td>\n",
              "    </tr>\n",
              "    <tr>\n",
              "      <th>1300</th>\n",
              "      <td>57</td>\n",
              "      <td>1996</td>\n",
              "      <td>2.0</td>\n",
              "    </tr>\n",
              "    <tr>\n",
              "      <th>1301</th>\n",
              "      <td>15</td>\n",
              "      <td>1997</td>\n",
              "      <td>5.0</td>\n",
              "    </tr>\n",
              "    <tr>\n",
              "      <th>1302</th>\n",
              "      <td>48</td>\n",
              "      <td>1997</td>\n",
              "      <td>3.5</td>\n",
              "    </tr>\n",
              "    <tr>\n",
              "      <th>1303</th>\n",
              "      <td>97</td>\n",
              "      <td>1997</td>\n",
              "      <td>0.5</td>\n",
              "    </tr>\n",
              "  </tbody>\n",
              "</table>\n",
              "<p>1304 rows × 3 columns</p>\n",
              "</div>"
            ],
            "text/plain": [
              "      userId  movieId  rating\n",
              "0          7        1     3.0\n",
              "1         70        1     5.0\n",
              "2         75        1     3.0\n",
              "3         79        1     2.0\n",
              "4         15        2     2.0\n",
              "...      ...      ...     ...\n",
              "1299      95     1995     3.0\n",
              "1300      57     1996     2.0\n",
              "1301      15     1997     5.0\n",
              "1302      48     1997     3.5\n",
              "1303      97     1997     0.5\n",
              "\n",
              "[1304 rows x 3 columns]"
            ]
          },
          "metadata": {
            "tags": []
          },
          "execution_count": 136
        }
      ]
    },
    {
      "cell_type": "code",
      "metadata": {
        "colab": {
          "base_uri": "https://localhost:8080/"
        },
        "id": "CfWHAFCNsMJo",
        "outputId": "47317a8d-fca5-4fc8-cda3-c0d631982a7d"
      },
      "source": [
        "train_1['userId'].value_counts().sort_index(ascending = True)"
      ],
      "execution_count": null,
      "outputs": [
        {
          "output_type": "execute_result",
          "data": {
            "text/plain": [
              "1      11\n",
              "2      63\n",
              "3      19\n",
              "4      80\n",
              "5      35\n",
              "       ..\n",
              "96     29\n",
              "97     50\n",
              "98     16\n",
              "99     90\n",
              "100    20\n",
              "Name: userId, Length: 100, dtype: int64"
            ]
          },
          "metadata": {
            "tags": []
          },
          "execution_count": 137
        }
      ]
    },
    {
      "cell_type": "code",
      "metadata": {
        "colab": {
          "base_uri": "https://localhost:8080/"
        },
        "id": "gJDQAxR1sTnL",
        "outputId": "da44184f-6978-440e-d561-000b1d450fc8"
      },
      "source": [
        "train_1['movieId'].value_counts().sort_index(ascending = True)"
      ],
      "execution_count": null,
      "outputs": [
        {
          "output_type": "execute_result",
          "data": {
            "text/plain": [
              "1       34\n",
              "2       15\n",
              "3        7\n",
              "4        1\n",
              "5        6\n",
              "        ..\n",
              "1987     1\n",
              "1991     1\n",
              "1994     8\n",
              "1995     2\n",
              "1997    11\n",
              "Name: movieId, Length: 970, dtype: int64"
            ]
          },
          "metadata": {
            "tags": []
          },
          "execution_count": 138
        }
      ]
    },
    {
      "cell_type": "code",
      "metadata": {
        "id": "HMK1YXVNyht7"
      },
      "source": [
        "user = np.zeros((5216, 100))\n",
        "movie = np.zeros((5216, 970))"
      ],
      "execution_count": null,
      "outputs": []
    },
    {
      "cell_type": "code",
      "metadata": {
        "id": "_hbb8RMGzAXP"
      },
      "source": [
        "i = 0\n",
        "while i < len(train1):\n",
        "  j = int(train1[i, 0]) - 1\n",
        "  user[i, j] = 1\n",
        "  i += 1"
      ],
      "execution_count": null,
      "outputs": []
    },
    {
      "cell_type": "code",
      "metadata": {
        "id": "hpkYj2JjzRe_"
      },
      "source": [
        "i = 0\n",
        "j = 0\n",
        "while i < len(train1) - 1:\n",
        "  movie[i, j] = 1\n",
        "  if train1[i, 1] != train1[i + 1, 1]:\n",
        "    i += 1\n",
        "    j += 1\n",
        "  elif i == len(train1) - 2:\n",
        "    movie[i + 1, j] = 1\n",
        "    break\n",
        "  else:\n",
        "    i += 1"
      ],
      "execution_count": null,
      "outputs": []
    },
    {
      "cell_type": "code",
      "metadata": {
        "id": "MWNfw-vpztkk"
      },
      "source": [
        "td1 = train_final2.drop('userId', axis = 1)\n",
        "td2 = td1.drop('movieId', axis = 1)\n",
        "rate = td2.reset_index(drop = True)\n",
        "rating = np.array(rate)\n",
        "\n",
        "i = 0\n",
        "while i < len(train1):\n",
        "  rating[i, 0] = rating[i, 0] - train_1['rating'].mean()\n",
        "  i += 1\n",
        "\n",
        "rating_list = np.array(rating).flatten().tolist()"
      ],
      "execution_count": null,
      "outputs": []
    },
    {
      "cell_type": "code",
      "metadata": {
        "colab": {
          "base_uri": "https://localhost:8080/"
        },
        "id": "jfyYY9z-0awP",
        "outputId": "4003d3a3-9552-4a47-9df0-96e6cc7bdf43"
      },
      "source": [
        "m = 5216\n",
        "n = 1070\n",
        "np.random.seed(1)\n",
        "A = np.hstack((user, movie))\n",
        "b = rating_list\n",
        "x = cp.Variable(n)\n",
        "cost = cp.sum_squares(A @ x - b)\n",
        "prob = cp.Problem(cp.Minimize(cost))\n",
        "prob.solve()\n",
        "\n",
        "print(\"\\nThe optimal value is\", prob.value)\n",
        "print(\"The optimal x is\")\n",
        "print(x.value)\n",
        "print(\"The norm of the residual is \", cp.norm(A @ x - b, p = 2).value)"
      ],
      "execution_count": null,
      "outputs": [
        {
          "output_type": "stream",
          "text": [
            "\n",
            "The optimal value is 3026.423821319599\n",
            "The optimal x is\n",
            "[-1.19858628 -0.19710866 -0.42605306 ...  0.37807971 -1.23374812\n",
            "  0.47946865]\n",
            "The norm of the residual is  55.0129423074207\n"
          ],
          "name": "stdout"
        }
      ]
    },
    {
      "cell_type": "code",
      "metadata": {
        "id": "9tYTNE3z0p1D"
      },
      "source": [
        "train_copy = train1[:]\n",
        "test_copy = test1[:]"
      ],
      "execution_count": null,
      "outputs": []
    },
    {
      "cell_type": "code",
      "metadata": {
        "id": "swpv0iJ9uJlv"
      },
      "source": [
        "diff1 = train_final2.drop('userId', axis = 1)\n",
        "diff1 = diff1.drop('rating', axis = 1)\n",
        "diff1 = diff1.reset_index(drop = True)\n",
        "diff1_movie = np.array(diff1)\n",
        "\n",
        "diff2 = train_final2.drop('movieId', axis = 1)\n",
        "diff2 = diff2.drop('rating', axis = 1)\n",
        "diff2 = diff2.reset_index(drop = True)\n",
        "diff2_user = np.array(diff2)\n",
        "\n",
        "diff3 = test_final2.drop('userId', axis = 1)\n",
        "diff3 = diff3.drop('rating', axis = 1)\n",
        "diff3 = diff3.reset_index(drop = True)\n",
        "diff3_movie = np.array(diff3)\n",
        "\n",
        "diff4 = test_final2.drop('movieId', axis = 1)\n",
        "diff4 = diff4.drop('rating', axis = 1)\n",
        "diff4 = diff4.reset_index(drop = True)\n",
        "diff4_user = np.array(diff4)"
      ],
      "execution_count": null,
      "outputs": []
    },
    {
      "cell_type": "code",
      "metadata": {
        "id": "3tgMnpncwJMO"
      },
      "source": [
        "temp3 = []\n",
        "for i in diff3_movie:\n",
        "    if i not in diff1_movie:\n",
        "        temp3.append(i)"
      ],
      "execution_count": null,
      "outputs": []
    },
    {
      "cell_type": "code",
      "metadata": {
        "id": "lQgZDEiM0xMk"
      },
      "source": [
        "i = 0\n",
        "k = 1\n",
        "while i < len(train1) - 1:\n",
        "  j = int(train1[i, 0])\n",
        "  if train1[i, 1] == train1[i + 1, 1]:\n",
        "    train_copy[i, 2] = train_1['rating'].mean() + x.value[j - 1] + x.value[99 + k]\n",
        "    i += 1\n",
        "  else:\n",
        "    k += 1\n",
        "    train_copy[i, 2] = train_1['rating'].mean() + x.value[j - 1] + x.value[99 + k]\n",
        "    i += 1\n",
        "\n",
        "train_copy[len(train1) - 1, 2] = train_1['rating'].mean() + x.value[77] + x.value[1069]\n",
        "\n",
        "i = 0\n",
        "j = 0\n",
        "while i < len(test1):\n",
        "  test_userid = int(test1[i, 0])\n",
        "  train_userid = int(train1[j, 0])\n",
        "  if test_userid == train_userid:\n",
        "    test_copy[i, 2] = train_1['rating'].mean() + x.value[test_userid - 1]\n",
        "    i += 1\n",
        "    j = 0\n",
        "  else:\n",
        "    j += 1\n",
        "\n",
        "i = 0\n",
        "j = 0\n",
        "k = 1\n",
        "while i < len(test1):\n",
        "  test_movieid = int(test1[i, 1])\n",
        "  train_movieid = int(train1[j, 1])\n",
        "  if test_movieid == train_movieid:\n",
        "    test_copy[i, 2] = test_copy[i, 2] + x.value[99 + k]\n",
        "    i += 1\n",
        "    j = 0\n",
        "    k = 1\n",
        "  elif test_movieid in temp3:\n",
        "    i += 1\n",
        "    j = 0\n",
        "    k = 1\n",
        "  else:\n",
        "    if train1[j, 1] == train1[j + 1, 1]:\n",
        "      j += 1\n",
        "    else:\n",
        "      j += 1\n",
        "      k += 1"
      ],
      "execution_count": null,
      "outputs": []
    },
    {
      "cell_type": "code",
      "metadata": {
        "id": "MaMsLhTPW4yt"
      },
      "source": [
        "from sklearn.metrics import mean_squared_error\n",
        "from math import sqrt\n",
        "\n",
        "test_rating = test_final2.drop('userId', axis = 1)\n",
        "test_rating = test_rating.drop('movieId', axis = 1)\n",
        "test_rating = test_rating.reset_index(drop = True)\n",
        "rating_t = np.array(test_rating)\n",
        "\n",
        "baseline_rating = np.delete(test_copy, 1, axis = 1)\n",
        "rating_b = np.delete(baseline_rating, 0, axis = 1)\n",
        "rmse = sqrt(mean_squared_error(rating_t, rating_b))"
      ],
      "execution_count": null,
      "outputs": []
    },
    {
      "cell_type": "code",
      "metadata": {
        "colab": {
          "base_uri": "https://localhost:8080/"
        },
        "id": "b1_mYpxSdrXU",
        "outputId": "3f5ee426-3d29-4d7b-fa21-c6f25101c70c"
      },
      "source": [
        "rmse"
      ],
      "execution_count": null,
      "outputs": [
        {
          "output_type": "execute_result",
          "data": {
            "text/plain": [
              "0.9582019278785457"
            ]
          },
          "metadata": {
            "tags": []
          },
          "execution_count": 172
        }
      ]
    },
    {
      "cell_type": "code",
      "metadata": {
        "id": "M2d6nVKt1E5P"
      },
      "source": [
        "data = pd.DataFrame(train_copy)\n",
        "\n",
        "data.to_csv('/content/gdrive/MyDrive/2021_인공지능통신/rating.csv', index=False, header=False)"
      ],
      "execution_count": null,
      "outputs": []
    },
    {
      "cell_type": "code",
      "metadata": {
        "id": "ilTaEmwl1PQm"
      },
      "source": [
        "reader = Reader(line_format='user item rating', sep=',', rating_scale=(0, 5))\n",
        "\n",
        "data_set = Dataset.load_from_file('/content/gdrive/MyDrive/2021_인공지능통신/rating.csv',reader=reader)"
      ],
      "execution_count": null,
      "outputs": []
    },
    {
      "cell_type": "code",
      "metadata": {
        "id": "T7udEyvX1VBq"
      },
      "source": [
        "train_set, valid_set = train_test_split(data_set, test_size=0.1, shuffle=True)"
      ],
      "execution_count": null,
      "outputs": []
    },
    {
      "cell_type": "code",
      "metadata": {
        "colab": {
          "base_uri": "https://localhost:8080/"
        },
        "id": "lJmjXE4d1bQO",
        "outputId": "18ea33d2-adc2-4d08-e95e-e2e77a386867"
      },
      "source": [
        "sim_options = {'name': 'cosine','user_based': False}\n",
        "model = KNNBasic(k = 10, sim_options = sim_options, verbose=2)\n",
        "model.fit(train_set)"
      ],
      "execution_count": null,
      "outputs": [
        {
          "output_type": "stream",
          "text": [
            "Computing the cosine similarity matrix...\n",
            "Done computing similarity matrix.\n"
          ],
          "name": "stdout"
        },
        {
          "output_type": "execute_result",
          "data": {
            "text/plain": [
              "<surprise.prediction_algorithms.knns.KNNBasic at 0x7fee64c24190>"
            ]
          },
          "metadata": {
            "tags": []
          },
          "execution_count": 19
        }
      ]
    },
    {
      "cell_type": "code",
      "metadata": {
        "colab": {
          "base_uri": "https://localhost:8080/"
        },
        "id": "cwJWihc01t5u",
        "outputId": "7e25db3d-b087-4b5d-aa74-d211c825ea07"
      },
      "source": [
        "prediction = model.test(test_set)\n",
        "\n",
        "accuracy.rmse(prediction)"
      ],
      "execution_count": null,
      "outputs": [
        {
          "output_type": "stream",
          "text": [
            "RMSE: 1.0438\n"
          ],
          "name": "stdout"
        },
        {
          "output_type": "execute_result",
          "data": {
            "text/plain": [
              "1.0438242584680162"
            ]
          },
          "metadata": {
            "tags": []
          },
          "execution_count": 20
        }
      ]
    }
  ]
}